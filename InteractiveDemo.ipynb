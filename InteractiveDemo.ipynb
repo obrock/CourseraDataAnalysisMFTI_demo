{
 "cells": [
  {
   "cell_type": "markdown",
   "metadata": {},
   "source": [
    "# Прогнозирование временных рядов на карте. Интерактивная демонстрация\n",
    "\n",
    "Ниже представлена интерактивная демонстрация результата проекта \"Прогнозирование временных рядов на карте\".\n",
    "\n",
    "Интерактивные формы находятся в самом низу блокнота. В промежутке находятся служебные функции для обработки действий совершаемых в интерактивных формах."
   ]
  },
  {
   "cell_type": "markdown",
   "metadata": {},
   "source": [
    "## Код для подготовки к интерактивной работе"
   ]
  },
  {
   "cell_type": "code",
   "execution_count": 1,
   "metadata": {},
   "outputs": [
    {
     "name": "stdout",
     "output_type": "stream",
     "text": [
      "Populating the interactive namespace from numpy and matplotlib\n"
     ]
    },
    {
     "name": "stderr",
     "output_type": "stream",
     "text": [
      "C:\\Users\\jjj\\Anaconda3\\lib\\site-packages\\IPython\\html.py:14: ShimWarning:\n",
      "\n",
      "The `IPython.html` package has been deprecated since IPython 4.0. You should import from `notebook` instead. `IPython.html.widgets` has moved to `ipywidgets`.\n",
      "\n"
     ]
    }
   ],
   "source": [
    "# Импортируем необходимые библиотеки\n",
    "import pickle\n",
    "from datetime import datetime as dttm\n",
    "import numpy as np\n",
    "import matplotlib.pyplot as plt\n",
    "import pandas as pd\n",
    "%matplotlib inline\n",
    "%pylab inline\n",
    "from mpl_toolkits.basemap import Basemap\n",
    "from matplotlib import cm\n",
    "from matplotlib.patches import Polygon\n",
    "import plotly\n",
    "import plotly.plotly as py\n",
    "from plotly.graph_objs import *\n",
    "import os.path\n",
    "from IPython.html.widgets import interact"
   ]
  },
  {
   "cell_type": "code",
   "execution_count": 2,
   "metadata": {
    "collapsed": true
   },
   "outputs": [],
   "source": [
    "# К сожалению файлы с исходными данными и прогнозами занимают много места, поэтому\n",
    "# для демонстрации выкладываю данные только для последнего месяца (2016-06), хотя \n",
    "# есть исходные данные и прогнозы для большего периода (с 2015-12)\n",
    "\n",
    "# Загружаем подготовленные на первой неделе фактические данные\n",
    "with open('rides_regions.p', \"rb\" ) as fr:\n",
    "    rides_regions_data = pickle.load(fr)\n",
    "\n",
    "# Загружаем прогнозы сделанные с помощью модели, разработанной на шестой неделе\n",
    "with open('rides_regions_forecast.p', \"rb\" ) as fr:\n",
    "    rides_regions_forecast_data = pickle.load(fr)\n",
    "\n",
    "# Границы Нью-йорка\n",
    "NY_west=-74.25559\n",
    "NY_east=-73.70001\n",
    "NY_south=40.49612\n",
    "NY_north=40.91553\n",
    "\n",
    "# Координаты Empire State Building\n",
    "ESB_lon = [-73.985756,]\n",
    "ESB_lat = [40.748306,]\n",
    "\n",
    "# Справочник временных меток\n",
    "dt_dict =[]\n",
    "for x in pd.date_range( dttm.strptime('2016060100', '%Y%m%d%H'),dttm.strptime('2016063023', '%Y%m%d%H'),freq='H'):\n",
    "    xx=dttm.strftime(x,'%Y%m%d%H')\n",
    "    dt_dict.append(xx)\n",
    "    \n",
    "# Загружаем данные о регионах\n",
    "regions = pd.read_csv('regions.csv', sep = ';')"
   ]
  },
  {
   "cell_type": "code",
   "execution_count": 3,
   "metadata": {
    "collapsed": true
   },
   "outputs": [],
   "source": [
    "# Функция для рисования прямоугольников на карте, разработанная на второй неделе\n",
    "def draw_screen_poly( lats, lons, m,alpha_value):\n",
    "    x, y = m( lons, lats )\n",
    "    xy=[]\n",
    "    for i in range(len(x)):\n",
    "        xy.append([x[i],y[i]])\n",
    "    poly = Polygon( xy, facecolor='red', alpha=alpha_value )\n",
    "    plt.gca().add_patch(poly)"
   ]
  },
  {
   "cell_type": "code",
   "execution_count": 4,
   "metadata": {
    "collapsed": true
   },
   "outputs": [],
   "source": [
    "# Функция для отрисовки карт с фактическими и прогнозными значениями поездок на конкретную дату и в конкретный час\n",
    "# Разработана на основе кода для отрисовки карт, который использовался на второй неделе.\n",
    "def draw_map(Day, Hour):        \n",
    "    #выбираем нужные данные\n",
    "    hour_idx= dt_dict.index(Day+Hour) \n",
    "    rides_regions_forecast = rides_regions_forecast_data[hour_idx]\n",
    "    rides_regions = rides_regions_data[hour_idx]\n",
    "\n",
    "    # Рисуем график с фактическими данными\n",
    "    # Инициализируем объект класса Basemap\n",
    "    plt.subplot(121)    \n",
    "    plt.rcParams['figure.figsize'] = (20.0, 10.0)\n",
    "    plt.title(\"Fact\")\n",
    "    m = Basemap(projection='merc', resolution = 'h', \n",
    "                  llcrnrlon= NY_west, llcrnrlat= NY_south,\n",
    "                  urcrnrlon= NY_east, urcrnrlat= NY_north)\n",
    "\n",
    "    # Максимальное количество поездок за месяц\n",
    "    max_rides = max(rides_regions)\n",
    "    \n",
    "    # Формируем изображения районов с раскраской соответственно интенсивности поездок\n",
    "    for index, row in regions.iterrows():\n",
    "        draw_screen_poly( [row.south, row.north, row.north ,row.south], [row.west, row.west,row.east,row.east], m, 1.0*rides_regions[index]/max_rides) \n",
    "\n",
    "    #Рисуем контуры побережий и Empire State Building\n",
    "    m.drawcoastlines()\n",
    "    x,y = m(ESB_lon, ESB_lat)\n",
    "    m.plot(x, y, 'bo', markersize=6)\n",
    "    \n",
    "    \n",
    "    # Рисуем график с прогнозными данными\n",
    "    # Инициализируем объект класса Basemap\n",
    "    plt.subplot(122)\n",
    "    plt.rcParams['figure.figsize'] = (20.0, 10.0)\n",
    "    plt.title(\"Forecast\")\n",
    "    m2 = Basemap(projection='merc', resolution = 'h', \n",
    "                  llcrnrlon= NY_west, llcrnrlat= NY_south,\n",
    "                  urcrnrlon= NY_east, urcrnrlat= NY_north)\n",
    "    \n",
    "    # Максимальное количество поездок за месяц\n",
    "    max_rides = max(rides_regions_forecast)\n",
    "    \n",
    "    # Формируем изображения районов с раскраской соответственно интенсивности поездок\n",
    "    for index, row in regions.iterrows():\n",
    "        draw_screen_poly([row.south, row.north, row.north ,row.south], [row.west, row.west,row.east,row.east], m2, 1.0*rides_regions_forecast[index]/max_rides) \n",
    "        \n",
    "    #Рисуем контуры побережий и Empire State Building\n",
    "    m2.drawcoastlines()\n",
    "    m2.plot(x, y, 'bo', markersize=6)"
   ]
  },
  {
   "cell_type": "code",
   "execution_count": 6,
   "metadata": {
    "collapsed": true
   },
   "outputs": [],
   "source": [
    "# создаем справочники для дат и часов, которые будут использоваться в интерактивных формах\n",
    "monthday_dt_dict ={}\n",
    "for x in pd.date_range( dttm.strptime('20160601', '%Y%m%d'),dttm.strptime('20160630', '%Y%m%d'),freq='D'):\n",
    "    xx=dttm.strftime(x,'%Y%m%d')\n",
    "    monthday_dt_dict[xx]=xx\n",
    "    \n",
    "hour_dt_dict={}\n",
    "for x in range(24):\n",
    "    if x<10:\n",
    "        hour_dt_dict['0'+str(x)]='0'+str(x)\n",
    "    else:\n",
    "        hour_dt_dict[str(x)]=str(x)\n",
    "\n",
    "# создаем справочник регионов, который будет использоваться в интерактивных формах\n",
    "region_dict={}\n",
    "for x in range(2500):\n",
    "    region_dict[str(x)]=x"
   ]
  },
  {
   "cell_type": "code",
   "execution_count": 7,
   "metadata": {
    "collapsed": true
   },
   "outputs": [],
   "source": [
    "# Функция для отрисовки временного ряда с фактическими и прогнозными значениями поездок \n",
    "# на конкретный временной диапазон для конкретного региона\n",
    "def draw_ts(Day_begin, Day_end, Region):     \n",
    "    #выбираем нужные данные\n",
    "    idx_begin= dt_dict.index(Day_begin+'00')\n",
    "    idx_end= dt_dict.index(Day_end+'23')\n",
    "    \n",
    "    if idx_begin>idx_end:\n",
    "        print('Неправильно заданы начальная и конечные даты!')\n",
    "        return\n",
    "    \n",
    "    rides_regions_forecast = [x[Region-1] for x in rides_regions_forecast_data][idx_begin:idx_end]\n",
    "    rides_regions = [x[Region-1] for x in rides_regions_data][idx_begin:idx_end]\n",
    "    time_labels = [dttm.strptime(x, '%Y%m%d%H') for x in dt_dict[idx_begin:idx_end]]\n",
    "    \n",
    "    rides_regions_ts = pd.Series(rides_regions, index=time_labels)\n",
    "    rides_regions_forecast_ts = pd.Series(rides_regions_forecast, index=time_labels)\n",
    "\n",
    "    # Рисуем график\n",
    "    plt.figure(figsize(15,7))\n",
    "    \n",
    "    # рисуем фактические данные\n",
    "    rides_regions_ts.plot()\n",
    "\n",
    "    # рисуем прогноз\n",
    "    rides_regions_forecast_ts.plot(color='r')\n",
    "\n",
    "    plt.ylabel('Rides')\n",
    "    plt.title('Factual and forecasted rides in region #'+str(Region))\n",
    "    plt.legend(['Factual','Forecasted'])\n",
    "    pylab.show()    "
   ]
  },
  {
   "cell_type": "markdown",
   "metadata": {},
   "source": [
    "## Карты с визуализацией реального и прогнозируемого спроса на такси в выбираемый пользователем момент времени\n",
    "\n",
    "Необходимо выбрать момент времени (с точностью до часа) в форме ниже. После выбора момента времени отобразится карта с визуализацией реального и прогнозируемого спроса на такси в Нью-Йорке."
   ]
  },
  {
   "cell_type": "code",
   "execution_count": 8,
   "metadata": {},
   "outputs": [
    {
     "data": {
      "application/vnd.jupyter.widget-view+json": {
       "model_id": "99d1d5e6914e40d2951abd26d9467cc9",
       "version_major": 2,
       "version_minor": 0
      },
      "text/plain": [
       "A Jupyter Widget"
      ]
     },
     "metadata": {},
     "output_type": "display_data"
    }
   ],
   "source": [
    "interact(draw_map, Day=monthday_dt_dict, Hour=hour_dt_dict);"
   ]
  },
  {
   "cell_type": "markdown",
   "metadata": {},
   "source": [
    "Слева отображаются фактические данные о поездках. Справа - прогнозные.\n",
    "\n",
    "Синей точной обозначено Empire State Building.\n",
    "\n",
    "Красным цветом обозначена итенсивность поездок. Чем насышенее цвет, тем больше поездок."
   ]
  },
  {
   "cell_type": "markdown",
   "metadata": {},
   "source": [
    "## Временной ряд фактического и прогнозируемого спроса на такси в выбираемой области\n",
    "\n",
    "Необходимо выбрать начало и конец временного периода, а также номер области в форме ниже. После выбора параметров отобразится график фактического и прогнозируемого спроса на такси."
   ]
  },
  {
   "cell_type": "code",
   "execution_count": 9,
   "metadata": {},
   "outputs": [
    {
     "data": {
      "application/vnd.jupyter.widget-view+json": {
       "model_id": "5cae9bde375241cea457001dec0062c9",
       "version_major": 2,
       "version_minor": 0
      },
      "text/plain": [
       "A Jupyter Widget"
      ]
     },
     "metadata": {},
     "output_type": "display_data"
    }
   ],
   "source": [
    "interact(draw_ts, Day_begin=monthday_dt_dict, Day_end =monthday_dt_dict, Region=region_dict);"
   ]
  }
 ],
 "metadata": {
  "kernelspec": {
   "display_name": "Python 3",
   "language": "python",
   "name": "python3"
  },
  "language_info": {
   "codemirror_mode": {
    "name": "ipython",
    "version": 3
   },
   "file_extension": ".py",
   "mimetype": "text/x-python",
   "name": "python",
   "nbconvert_exporter": "python",
   "pygments_lexer": "ipython3",
   "version": "3.6.3"
  }
 },
 "nbformat": 4,
 "nbformat_minor": 2
}
